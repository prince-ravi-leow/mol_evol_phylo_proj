{
 "cells": [
  {
   "cell_type": "markdown",
   "id": "232645cf",
   "metadata": {},
   "source": [
    "# NextStrain Rabies metadata EDA"
   ]
  },
  {
   "cell_type": "markdown",
   "id": "1b059010",
   "metadata": {},
   "source": [
    "# Load libraries + data"
   ]
  },
  {
   "cell_type": "code",
   "execution_count": 1,
   "id": "27e542e3",
   "metadata": {},
   "outputs": [],
   "source": [
    "import pandas as pd\n",
    "import seaborn as sns\n",
    "import matplotlib.pyplot as plt\n",
    "\n",
    "from pathlib import Path"
   ]
  },
  {
   "cell_type": "code",
   "execution_count": 2,
   "id": "5b4f3a59",
   "metadata": {},
   "outputs": [],
   "source": [
    "df = pd.read_table(\"../data/metadata.tsv\")"
   ]
  },
  {
   "cell_type": "code",
   "execution_count": 3,
   "id": "3edc2db6",
   "metadata": {},
   "outputs": [
    {
     "data": {
      "text/plain": [
       "Index(['accession', 'accession_version', 'strain', 'date', 'region', 'country',\n",
       "       'division', 'location', 'length', 'host', 'host_latin_name',\n",
       "       'host_family', 'host_genus', 'host_group', 'host_common_name',\n",
       "       'date_released', 'date_updated', 'sra_accessions', 'authors',\n",
       "       'abbr_authors', 'institution'],\n",
       "      dtype='object')"
      ]
     },
     "execution_count": 3,
     "metadata": {},
     "output_type": "execute_result"
    }
   ],
   "source": [
    "df.columns"
   ]
  },
  {
   "cell_type": "code",
   "execution_count": 4,
   "id": "6c0bdb1b",
   "metadata": {},
   "outputs": [
    {
     "data": {
      "text/plain": [
       "32200"
      ]
     },
     "execution_count": 4,
     "metadata": {},
     "output_type": "execute_result"
    }
   ],
   "source": [
    "len(df)"
   ]
  },
  {
   "cell_type": "markdown",
   "id": "9cd53e34",
   "metadata": {},
   "source": [
    "# Sampling dates"
   ]
  },
  {
   "cell_type": "code",
   "execution_count": 5,
   "id": "adfbc552",
   "metadata": {},
   "outputs": [
    {
     "name": "stderr",
     "output_type": "stream",
     "text": [
      "/var/folders/1t/rb_zhnrn44550d9pg40ct1n00000gn/T/ipykernel_44107/2141689063.py:2: UserWarning: Could not infer format, so each element will be parsed individually, falling back to `dateutil`. To ensure parsing is consistent and as-expected, please specify a format.\n",
      "  df[\"date_dt_parsed\"] = pd.to_datetime(df[\"date\"], errors=\"coerce\")\n"
     ]
    }
   ],
   "source": [
    "# Invalid parsing will be set as NaT\n",
    "df[\"date_dt_parsed\"] = pd.to_datetime(df[\"date\"], errors=\"coerce\")"
   ]
  },
  {
   "cell_type": "code",
   "execution_count": 6,
   "id": "03b256d4",
   "metadata": {},
   "outputs": [
    {
     "data": {
      "text/plain": [
       "<Axes: xlabel='date_dt_parsed', ylabel='Count'>"
      ]
     },
     "execution_count": 6,
     "metadata": {},
     "output_type": "execute_result"
    },
    {
     "data": {
      "image/png": "[encoded data removed]",
      "text/plain": [
       "<Figure size 640x480 with 1 Axes>"
      ]
     },
     "metadata": {},
     "output_type": "display_data"
    }
   ],
   "source": [
    "sns.histplot(data=df, x=\"date_dt_parsed\")"
   ]
  },
  {
   "cell_type": "markdown",
   "id": "de9d6211",
   "metadata": {},
   "source": [
    "**Did we lose data?**"
   ]
  },
  {
   "cell_type": "code",
   "execution_count": 7,
   "id": "75104fe1",
   "metadata": {},
   "outputs": [
    {
     "name": "stdout",
     "output_type": "stream",
     "text": [
      "Proportion of data with poorly entered dates:\n"
     ]
    },
    {
     "data": {
      "text/plain": [
       "0.811"
      ]
     },
     "execution_count": 7,
     "metadata": {},
     "output_type": "execute_result"
    }
   ],
   "source": [
    "print(\"Proportion of data with poorly entered dates:\")\n",
    "round(len(df[df[\"date_dt_parsed\"].isna()]) / len(df), 3)"
   ]
  },
  {
   "cell_type": "markdown",
   "id": "a3bfc3ab",
   "metadata": {},
   "source": [
    "Answer: *YES*"
   ]
  },
  {
   "cell_type": "markdown",
   "id": "976d202e",
   "metadata": {},
   "source": [
    "## Dealing with bad dates"
   ]
  },
  {
   "cell_type": "code",
   "execution_count": 8,
   "id": "b1c22075",
   "metadata": {},
   "outputs": [
    {
     "data": {
      "text/plain": [
       "date\n",
       "XXXX-XX-XX    9767\n",
       "2018-XX-XX     787\n",
       "2008-XX-XX     748\n",
       "2009-XX-XX     705\n",
       "2006-XX-XX     652\n",
       "Name: count, dtype: int64"
      ]
     },
     "execution_count": 8,
     "metadata": {},
     "output_type": "execute_result"
    }
   ],
   "source": [
    "df[\"date\"].value_counts().head()"
   ]
  },
  {
   "cell_type": "code",
   "execution_count": 9,
   "id": "425c67db",
   "metadata": {},
   "outputs": [
    {
     "name": "stdout",
     "output_type": "stream",
     "text": [
      "Amount of incomplete dates:\n",
      "26099\n",
      "Amount of incomplete years:\n",
      "9767\n"
     ]
    }
   ],
   "source": [
    "print(\"Amount of incomplete dates:\")\n",
    "print(len(df[df[\"date\"].str.contains(\"XX\")]))\n",
    "print(\"Amount of incomplete years:\")\n",
    "print(len(df[df[\"date\"].str.contains(\"XXXX\")]))"
   ]
  },
  {
   "cell_type": "markdown",
   "id": "4ef9796d",
   "metadata": {},
   "source": [
    "## Manually years from date column"
   ]
  },
  {
   "cell_type": "code",
   "execution_count": 10,
   "id": "622f304c",
   "metadata": {},
   "outputs": [],
   "source": [
    "def get_year(date_str):\n",
    "    if pd.isna(date_str):\n",
    "        return pd.NA\n",
    "    parts = str(date_str).split(\"-\")\n",
    "    if len(parts) == 3 and parts[0].isdigit():\n",
    "        return int(parts[0])\n",
    "    return pd.NA"
   ]
  },
  {
   "cell_type": "code",
   "execution_count": 11,
   "id": "fd3680f5",
   "metadata": {},
   "outputs": [],
   "source": [
    "df[\"year_parsed\"] = df[\"date\"].apply(get_year)"
   ]
  },
  {
   "cell_type": "code",
   "execution_count": 12,
   "id": "8ba7d7fc",
   "metadata": {},
   "outputs": [
    {
     "data": {
      "text/plain": [
       "year_parsed\n",
       "2009    1435\n",
       "2008    1189\n",
       "2010    1113\n",
       "2013    1091\n",
       "2011    1083\n",
       "2012    1083\n",
       "2018    1050\n",
       "2021     941\n",
       "2014     885\n",
       "2007     882\n",
       "Name: count, dtype: int64"
      ]
     },
     "execution_count": 12,
     "metadata": {},
     "output_type": "execute_result"
    }
   ],
   "source": [
    "df[\"year_parsed\"].value_counts().head(10)"
   ]
  },
  {
   "cell_type": "code",
   "execution_count": 13,
   "id": "a89be2aa",
   "metadata": {},
   "outputs": [
    {
     "data": {
      "text/plain": [
       "<Axes: xlabel='year_parsed', ylabel='Count'>"
      ]
     },
     "execution_count": 13,
     "metadata": {},
     "output_type": "execute_result"
    },
    {
     "data": {
      "image/png": "[encoded data removed]",
      "text/plain": [
       "<Figure size 640x480 with 1 Axes>"
      ]
     },
     "metadata": {},
     "output_type": "display_data"
    }
   ],
   "source": [
    "plt.xticks(rotation=45, ha=\"right\")\n",
    "sns.histplot(data=df, x=\"year_parsed\")"
   ]
  },
  {
   "cell_type": "markdown",
   "id": "9283f62d",
   "metadata": {},
   "source": [
    "Cutoff at year 2007"
   ]
  },
  {
   "cell_type": "code",
   "execution_count": 14,
   "id": "f955a545",
   "metadata": {},
   "outputs": [],
   "source": [
    "df_year_cutoff = df[df[\"year_parsed\"] >= 2007]"
   ]
  },
  {
   "cell_type": "code",
   "execution_count": 15,
   "id": "eadf4335",
   "metadata": {},
   "outputs": [
    {
     "data": {
      "text/plain": [
       "<Axes: xlabel='year_parsed', ylabel='Count'>"
      ]
     },
     "execution_count": 15,
     "metadata": {},
     "output_type": "execute_result"
    },
    {
     "data": {
      "image/png": "[encoded data removed]",
      "text/plain": [
       "<Figure size 640x480 with 1 Axes>"
      ]
     },
     "metadata": {},
     "output_type": "display_data"
    }
   ],
   "source": [
    "sns.histplot(data=df_year_cutoff, x=\"year_parsed\")"
   ]
  },
  {
   "cell_type": "markdown",
   "id": "05b32961",
   "metadata": {},
   "source": [
    "# Stratifying by Host"
   ]
  },
  {
   "cell_type": "markdown",
   "id": "4111370d",
   "metadata": {},
   "source": [
    "## Host - year"
   ]
  },
  {
   "cell_type": "code",
   "execution_count": 16,
   "id": "f3e8bc02",
   "metadata": {},
   "outputs": [
    {
     "data": {
      "text/html": [
       "<div>\n",
       "<style scoped>\n",
       "    .dataframe tbody tr th:only-of-type {\n",
       "        vertical-align: middle;\n",
       "    }\n",
       "\n",
       "    .dataframe tbody tr th {\n",
       "        vertical-align: top;\n",
       "    }\n",
       "\n",
       "    .dataframe thead th {\n",
       "        text-align: right;\n",
       "    }\n",
       "</style>\n",
       "<table border=\"1\" class=\"dataframe\">\n",
       "  <thead>\n",
       "    <tr style=\"text-align: right;\">\n",
       "      <th>year_parsed</th>\n",
       "      <th>2007</th>\n",
       "      <th>2008</th>\n",
       "      <th>2009</th>\n",
       "      <th>2010</th>\n",
       "      <th>2011</th>\n",
       "      <th>2012</th>\n",
       "      <th>2013</th>\n",
       "      <th>2014</th>\n",
       "      <th>2015</th>\n",
       "      <th>2016</th>\n",
       "      <th>2017</th>\n",
       "      <th>2018</th>\n",
       "      <th>2019</th>\n",
       "      <th>2020</th>\n",
       "      <th>2021</th>\n",
       "      <th>2022</th>\n",
       "      <th>2023</th>\n",
       "      <th>2024</th>\n",
       "      <th>2025</th>\n",
       "    </tr>\n",
       "    <tr>\n",
       "      <th>host</th>\n",
       "      <th></th>\n",
       "      <th></th>\n",
       "      <th></th>\n",
       "      <th></th>\n",
       "      <th></th>\n",
       "      <th></th>\n",
       "      <th></th>\n",
       "      <th></th>\n",
       "      <th></th>\n",
       "      <th></th>\n",
       "      <th></th>\n",
       "      <th></th>\n",
       "      <th></th>\n",
       "      <th></th>\n",
       "      <th></th>\n",
       "      <th></th>\n",
       "      <th></th>\n",
       "      <th></th>\n",
       "      <th></th>\n",
       "    </tr>\n",
       "  </thead>\n",
       "  <tbody>\n",
       "    <tr>\n",
       "      <th>?</th>\n",
       "      <td>56</td>\n",
       "      <td>20</td>\n",
       "      <td>7</td>\n",
       "      <td>14</td>\n",
       "      <td>17</td>\n",
       "      <td>7</td>\n",
       "      <td>28</td>\n",
       "      <td>11</td>\n",
       "      <td>14</td>\n",
       "      <td>6</td>\n",
       "      <td>13</td>\n",
       "      <td>6</td>\n",
       "      <td>4</td>\n",
       "      <td>12</td>\n",
       "      <td>15</td>\n",
       "      <td>49</td>\n",
       "      <td>11</td>\n",
       "      <td>6</td>\n",
       "      <td>0</td>\n",
       "    </tr>\n",
       "    <tr>\n",
       "      <th>Bat</th>\n",
       "      <td>97</td>\n",
       "      <td>53</td>\n",
       "      <td>96</td>\n",
       "      <td>111</td>\n",
       "      <td>134</td>\n",
       "      <td>171</td>\n",
       "      <td>53</td>\n",
       "      <td>31</td>\n",
       "      <td>47</td>\n",
       "      <td>21</td>\n",
       "      <td>28</td>\n",
       "      <td>76</td>\n",
       "      <td>47</td>\n",
       "      <td>34</td>\n",
       "      <td>100</td>\n",
       "      <td>89</td>\n",
       "      <td>59</td>\n",
       "      <td>4</td>\n",
       "      <td>0</td>\n",
       "    </tr>\n",
       "    <tr>\n",
       "      <th>Bird</th>\n",
       "      <td>0</td>\n",
       "      <td>0</td>\n",
       "      <td>0</td>\n",
       "      <td>0</td>\n",
       "      <td>0</td>\n",
       "      <td>0</td>\n",
       "      <td>0</td>\n",
       "      <td>1</td>\n",
       "      <td>0</td>\n",
       "      <td>0</td>\n",
       "      <td>0</td>\n",
       "      <td>0</td>\n",
       "      <td>0</td>\n",
       "      <td>0</td>\n",
       "      <td>0</td>\n",
       "      <td>0</td>\n",
       "      <td>0</td>\n",
       "      <td>0</td>\n",
       "      <td>0</td>\n",
       "    </tr>\n",
       "    <tr>\n",
       "      <th>Cattle</th>\n",
       "      <td>93</td>\n",
       "      <td>155</td>\n",
       "      <td>171</td>\n",
       "      <td>134</td>\n",
       "      <td>168</td>\n",
       "      <td>84</td>\n",
       "      <td>102</td>\n",
       "      <td>93</td>\n",
       "      <td>165</td>\n",
       "      <td>138</td>\n",
       "      <td>101</td>\n",
       "      <td>114</td>\n",
       "      <td>76</td>\n",
       "      <td>106</td>\n",
       "      <td>115</td>\n",
       "      <td>36</td>\n",
       "      <td>23</td>\n",
       "      <td>11</td>\n",
       "      <td>0</td>\n",
       "    </tr>\n",
       "    <tr>\n",
       "      <th>Domestic Dog</th>\n",
       "      <td>431</td>\n",
       "      <td>552</td>\n",
       "      <td>458</td>\n",
       "      <td>420</td>\n",
       "      <td>336</td>\n",
       "      <td>492</td>\n",
       "      <td>447</td>\n",
       "      <td>449</td>\n",
       "      <td>331</td>\n",
       "      <td>343</td>\n",
       "      <td>402</td>\n",
       "      <td>501</td>\n",
       "      <td>217</td>\n",
       "      <td>128</td>\n",
       "      <td>464</td>\n",
       "      <td>376</td>\n",
       "      <td>284</td>\n",
       "      <td>325</td>\n",
       "      <td>29</td>\n",
       "    </tr>\n",
       "    <tr>\n",
       "      <th>Fox (Vulpes sp.)</th>\n",
       "      <td>48</td>\n",
       "      <td>103</td>\n",
       "      <td>168</td>\n",
       "      <td>188</td>\n",
       "      <td>75</td>\n",
       "      <td>69</td>\n",
       "      <td>75</td>\n",
       "      <td>44</td>\n",
       "      <td>31</td>\n",
       "      <td>20</td>\n",
       "      <td>30</td>\n",
       "      <td>29</td>\n",
       "      <td>26</td>\n",
       "      <td>18</td>\n",
       "      <td>28</td>\n",
       "      <td>43</td>\n",
       "      <td>4</td>\n",
       "      <td>2</td>\n",
       "      <td>0</td>\n",
       "    </tr>\n",
       "    <tr>\n",
       "      <th>Human</th>\n",
       "      <td>25</td>\n",
       "      <td>47</td>\n",
       "      <td>101</td>\n",
       "      <td>38</td>\n",
       "      <td>34</td>\n",
       "      <td>42</td>\n",
       "      <td>10</td>\n",
       "      <td>13</td>\n",
       "      <td>26</td>\n",
       "      <td>8</td>\n",
       "      <td>17</td>\n",
       "      <td>26</td>\n",
       "      <td>19</td>\n",
       "      <td>23</td>\n",
       "      <td>24</td>\n",
       "      <td>18</td>\n",
       "      <td>32</td>\n",
       "      <td>29</td>\n",
       "      <td>5</td>\n",
       "    </tr>\n",
       "    <tr>\n",
       "      <th>Other Carnivore</th>\n",
       "      <td>40</td>\n",
       "      <td>126</td>\n",
       "      <td>182</td>\n",
       "      <td>101</td>\n",
       "      <td>122</td>\n",
       "      <td>131</td>\n",
       "      <td>260</td>\n",
       "      <td>114</td>\n",
       "      <td>93</td>\n",
       "      <td>85</td>\n",
       "      <td>139</td>\n",
       "      <td>201</td>\n",
       "      <td>58</td>\n",
       "      <td>79</td>\n",
       "      <td>68</td>\n",
       "      <td>75</td>\n",
       "      <td>28</td>\n",
       "      <td>29</td>\n",
       "      <td>0</td>\n",
       "    </tr>\n",
       "    <tr>\n",
       "      <th>Other Mammal</th>\n",
       "      <td>2</td>\n",
       "      <td>10</td>\n",
       "      <td>0</td>\n",
       "      <td>3</td>\n",
       "      <td>4</td>\n",
       "      <td>3</td>\n",
       "      <td>3</td>\n",
       "      <td>21</td>\n",
       "      <td>2</td>\n",
       "      <td>3</td>\n",
       "      <td>6</td>\n",
       "      <td>4</td>\n",
       "      <td>16</td>\n",
       "      <td>2</td>\n",
       "      <td>23</td>\n",
       "      <td>11</td>\n",
       "      <td>2</td>\n",
       "      <td>0</td>\n",
       "      <td>0</td>\n",
       "    </tr>\n",
       "    <tr>\n",
       "      <th>Other Ungulate</th>\n",
       "      <td>28</td>\n",
       "      <td>77</td>\n",
       "      <td>55</td>\n",
       "      <td>55</td>\n",
       "      <td>49</td>\n",
       "      <td>42</td>\n",
       "      <td>26</td>\n",
       "      <td>49</td>\n",
       "      <td>14</td>\n",
       "      <td>138</td>\n",
       "      <td>33</td>\n",
       "      <td>25</td>\n",
       "      <td>19</td>\n",
       "      <td>38</td>\n",
       "      <td>36</td>\n",
       "      <td>33</td>\n",
       "      <td>18</td>\n",
       "      <td>6</td>\n",
       "      <td>1</td>\n",
       "    </tr>\n",
       "    <tr>\n",
       "      <th>Raccoon</th>\n",
       "      <td>40</td>\n",
       "      <td>27</td>\n",
       "      <td>25</td>\n",
       "      <td>30</td>\n",
       "      <td>46</td>\n",
       "      <td>3</td>\n",
       "      <td>22</td>\n",
       "      <td>10</td>\n",
       "      <td>33</td>\n",
       "      <td>66</td>\n",
       "      <td>51</td>\n",
       "      <td>57</td>\n",
       "      <td>62</td>\n",
       "      <td>13</td>\n",
       "      <td>36</td>\n",
       "      <td>4</td>\n",
       "      <td>0</td>\n",
       "      <td>0</td>\n",
       "      <td>0</td>\n",
       "    </tr>\n",
       "    <tr>\n",
       "      <th>Skunk</th>\n",
       "      <td>22</td>\n",
       "      <td>19</td>\n",
       "      <td>172</td>\n",
       "      <td>19</td>\n",
       "      <td>98</td>\n",
       "      <td>39</td>\n",
       "      <td>65</td>\n",
       "      <td>49</td>\n",
       "      <td>39</td>\n",
       "      <td>24</td>\n",
       "      <td>27</td>\n",
       "      <td>11</td>\n",
       "      <td>6</td>\n",
       "      <td>2</td>\n",
       "      <td>32</td>\n",
       "      <td>9</td>\n",
       "      <td>2</td>\n",
       "      <td>0</td>\n",
       "      <td>0</td>\n",
       "    </tr>\n",
       "  </tbody>\n",
       "</table>\n",
       "</div>"
      ],
      "text/plain": [
       "year_parsed       2007  2008  2009  2010  2011  2012  2013  2014  2015  2016  \\\n",
       "host                                                                           \n",
       "?                   56    20     7    14    17     7    28    11    14     6   \n",
       "Bat                 97    53    96   111   134   171    53    31    47    21   \n",
       "Bird                 0     0     0     0     0     0     0     1     0     0   \n",
       "Cattle              93   155   171   134   168    84   102    93   165   138   \n",
       "Domestic Dog       431   552   458   420   336   492   447   449   331   343   \n",
       "Fox (Vulpes sp.)    48   103   168   188    75    69    75    44    31    20   \n",
       "Human               25    47   101    38    34    42    10    13    26     8   \n",
       "Other Carnivore     40   126   182   101   122   131   260   114    93    85   \n",
       "Other Mammal         2    10     0     3     4     3     3    21     2     3   \n",
       "Other Ungulate      28    77    55    55    49    42    26    49    14   138   \n",
       "Raccoon             40    27    25    30    46     3    22    10    33    66   \n",
       "Skunk               22    19   172    19    98    39    65    49    39    24   \n",
       "\n",
       "year_parsed       2017  2018  2019  2020  2021  2022  2023  2024  2025  \n",
       "host                                                                    \n",
       "?                   13     6     4    12    15    49    11     6     0  \n",
       "Bat                 28    76    47    34   100    89    59     4     0  \n",
       "Bird                 0     0     0     0     0     0     0     0     0  \n",
       "Cattle             101   114    76   106   115    36    23    11     0  \n",
       "Domestic Dog       402   501   217   128   464   376   284   325    29  \n",
       "Fox (Vulpes sp.)    30    29    26    18    28    43     4     2     0  \n",
       "Human               17    26    19    23    24    18    32    29     5  \n",
       "Other Carnivore    139   201    58    79    68    75    28    29     0  \n",
       "Other Mammal         6     4    16     2    23    11     2     0     0  \n",
       "Other Ungulate      33    25    19    38    36    33    18     6     1  \n",
       "Raccoon             51    57    62    13    36     4     0     0     0  \n",
       "Skunk               27    11     6     2    32     9     2     0     0  "
      ]
     },
     "execution_count": 16,
     "metadata": {},
     "output_type": "execute_result"
    }
   ],
   "source": [
    "crosstab_df = pd.crosstab(\n",
    "    df_year_cutoff[\"host\"], df_year_cutoff[\"year_parsed\"], dropna=True\n",
    ")\n",
    "crosstab_df"
   ]
  },
  {
   "cell_type": "code",
   "execution_count": 17,
   "id": "c0d89028",
   "metadata": {},
   "outputs": [
    {
     "data": {
      "image/png": "[encoded data removed]",
      "text/plain": [
       "<Figure size 640x480 with 2 Axes>"
      ]
     },
     "metadata": {},
     "output_type": "display_data"
    }
   ],
   "source": [
    "sns.heatmap(crosstab_df, cmap=\"viridis\", linewidths=0.5)\n",
    "plt.title(\"Host vs Year (Count Heatmap)\")\n",
    "plt.xlabel(\"Country\")\n",
    "plt.ylabel(\"Host\")\n",
    "plt.tight_layout()"
   ]
  },
  {
   "cell_type": "markdown",
   "id": "8e495096",
   "metadata": {},
   "source": [
    "## Host - Geographical"
   ]
  },
  {
   "cell_type": "code",
   "execution_count": 18,
   "id": "6f8e0236",
   "metadata": {},
   "outputs": [
    {
     "data": {
      "text/html": [
       "<div>\n",
       "<style scoped>\n",
       "    .dataframe tbody tr th:only-of-type {\n",
       "        vertical-align: middle;\n",
       "    }\n",
       "\n",
       "    .dataframe tbody tr th {\n",
       "        vertical-align: top;\n",
       "    }\n",
       "\n",
       "    .dataframe thead th {\n",
       "        text-align: right;\n",
       "    }\n",
       "</style>\n",
       "<table border=\"1\" class=\"dataframe\">\n",
       "  <thead>\n",
       "    <tr style=\"text-align: right;\">\n",
       "      <th>region</th>\n",
       "      <th>Africa</th>\n",
       "      <th>Asia</th>\n",
       "      <th>Europe</th>\n",
       "      <th>North America</th>\n",
       "      <th>South America</th>\n",
       "    </tr>\n",
       "    <tr>\n",
       "      <th>host</th>\n",
       "      <th></th>\n",
       "      <th></th>\n",
       "      <th></th>\n",
       "      <th></th>\n",
       "      <th></th>\n",
       "    </tr>\n",
       "  </thead>\n",
       "  <tbody>\n",
       "    <tr>\n",
       "      <th>?</th>\n",
       "      <td>64</td>\n",
       "      <td>88</td>\n",
       "      <td>31</td>\n",
       "      <td>23</td>\n",
       "      <td>84</td>\n",
       "    </tr>\n",
       "    <tr>\n",
       "      <th>Bat</th>\n",
       "      <td>58</td>\n",
       "      <td>12</td>\n",
       "      <td>3</td>\n",
       "      <td>412</td>\n",
       "      <td>766</td>\n",
       "    </tr>\n",
       "    <tr>\n",
       "      <th>Bird</th>\n",
       "      <td>0</td>\n",
       "      <td>1</td>\n",
       "      <td>0</td>\n",
       "      <td>0</td>\n",
       "      <td>0</td>\n",
       "    </tr>\n",
       "    <tr>\n",
       "      <th>Cattle</th>\n",
       "      <td>318</td>\n",
       "      <td>414</td>\n",
       "      <td>200</td>\n",
       "      <td>48</td>\n",
       "      <td>903</td>\n",
       "    </tr>\n",
       "    <tr>\n",
       "      <th>Domestic Dog</th>\n",
       "      <td>2351</td>\n",
       "      <td>4100</td>\n",
       "      <td>262</td>\n",
       "      <td>91</td>\n",
       "      <td>163</td>\n",
       "    </tr>\n",
       "    <tr>\n",
       "      <th>Fox (Vulpes sp.)</th>\n",
       "      <td>9</td>\n",
       "      <td>5</td>\n",
       "      <td>793</td>\n",
       "      <td>194</td>\n",
       "      <td>0</td>\n",
       "    </tr>\n",
       "    <tr>\n",
       "      <th>Human</th>\n",
       "      <td>38</td>\n",
       "      <td>462</td>\n",
       "      <td>7</td>\n",
       "      <td>12</td>\n",
       "      <td>18</td>\n",
       "    </tr>\n",
       "    <tr>\n",
       "      <th>Other Carnivore</th>\n",
       "      <td>515</td>\n",
       "      <td>658</td>\n",
       "      <td>428</td>\n",
       "      <td>261</td>\n",
       "      <td>65</td>\n",
       "    </tr>\n",
       "    <tr>\n",
       "      <th>Other Mammal</th>\n",
       "      <td>7</td>\n",
       "      <td>35</td>\n",
       "      <td>2</td>\n",
       "      <td>12</td>\n",
       "      <td>59</td>\n",
       "    </tr>\n",
       "    <tr>\n",
       "      <th>Other Ungulate</th>\n",
       "      <td>199</td>\n",
       "      <td>369</td>\n",
       "      <td>72</td>\n",
       "      <td>23</td>\n",
       "      <td>75</td>\n",
       "    </tr>\n",
       "    <tr>\n",
       "      <th>Raccoon</th>\n",
       "      <td>0</td>\n",
       "      <td>11</td>\n",
       "      <td>2</td>\n",
       "      <td>512</td>\n",
       "      <td>0</td>\n",
       "    </tr>\n",
       "    <tr>\n",
       "      <th>Skunk</th>\n",
       "      <td>0</td>\n",
       "      <td>0</td>\n",
       "      <td>0</td>\n",
       "      <td>635</td>\n",
       "      <td>0</td>\n",
       "    </tr>\n",
       "  </tbody>\n",
       "</table>\n",
       "</div>"
      ],
      "text/plain": [
       "region            Africa  Asia  Europe  North America  South America\n",
       "host                                                                \n",
       "?                     64    88      31             23             84\n",
       "Bat                   58    12       3            412            766\n",
       "Bird                   0     1       0              0              0\n",
       "Cattle               318   414     200             48            903\n",
       "Domestic Dog        2351  4100     262             91            163\n",
       "Fox (Vulpes sp.)       9     5     793            194              0\n",
       "Human                 38   462       7             12             18\n",
       "Other Carnivore      515   658     428            261             65\n",
       "Other Mammal           7    35       2             12             59\n",
       "Other Ungulate       199   369      72             23             75\n",
       "Raccoon                0    11       2            512              0\n",
       "Skunk                  0     0       0            635              0"
      ]
     },
     "execution_count": 18,
     "metadata": {},
     "output_type": "execute_result"
    }
   ],
   "source": [
    "crosstab_df = pd.crosstab(df_year_cutoff[\"host\"], df_year_cutoff[\"region\"], dropna=True)\n",
    "crosstab_df"
   ]
  },
  {
   "cell_type": "code",
   "execution_count": 19,
   "id": "2a1ff527",
   "metadata": {},
   "outputs": [
    {
     "data": {
      "image/png": "[encoded data removed]",
      "text/plain": [
       "<Figure size 640x480 with 2 Axes>"
      ]
     },
     "metadata": {},
     "output_type": "display_data"
    }
   ],
   "source": [
    "sns.heatmap(crosstab_df, cmap=\"viridis\", linewidths=0.5)\n",
    "plt.title(\"Host vs Region (Count Heatmap)\")\n",
    "plt.xlabel(\"Region\")\n",
    "plt.ylabel(\"Host\")\n",
    "plt.tight_layout()"
   ]
  },
  {
   "cell_type": "markdown",
   "id": "b15eb8e2",
   "metadata": {},
   "source": [
    "# Rabies trivia"
   ]
  },
  {
   "cell_type": "markdown",
   "id": "ad7b1a39",
   "metadata": {},
   "source": [
    "* Mode of transmission\n",
    "    * As per [WHO](https://www.who.int/news-room/fact-sheets/detail/rabies), **dog bites and scratches** cause 99% of the human rabies cases, and can be prevented through dog vaccination and bite prevention.\n",
    "* Negative strand RNA virus\n",
    "* Entire genome comprised of 5 genes???\n",
    "* NextStrain has combination of whole and incomplete genomes"
   ]
  },
  {
   "cell_type": "markdown",
   "id": "33744047",
   "metadata": {},
   "source": [
    "# Research ideas"
   ]
  },
  {
   "cell_type": "markdown",
   "id": "79958f16",
   "metadata": {},
   "source": [
    "* Host switching\n",
    "* Geography\n",
    "* Mol. Evol. of Rabies virus"
   ]
  },
  {
   "cell_type": "markdown",
   "id": "7f717d19",
   "metadata": {},
   "source": [
    "# Existing literature"
   ]
  },
  {
   "cell_type": "markdown",
   "id": "267a9c49",
   "metadata": {},
   "source": [
    "**Most-cited**: Species-associations driving hy ecological factors, and epidemiological separation between reservoirs\n",
    "* Mollentze, N., Biek, R. and Streicker, D.G. (2014) ‘The role of viral evolution in rabies host shifts and emergence’, Current Opinion in Virology, 8, pp. 68–72. Available at: https://doi.org/10.1016/j.coviro.2014.07.004.\n",
    "\n",
    "**Very recent, high impact**: supplement relatedness (i.e. phylogenetic relatedness) with predictors such as temperature, temp. difference, litter size, weight, etc.\n",
    "* Boutelle, C. et al. (2025) ‘A logistic regression model to predict the next rabies virus host-shift event’, Scientific Reports, 15(1), p. 19306. Available at: https://doi.org/10.1038/s41598-025-98986-x. \n",
    "\n",
    "**Bayesian inference on 1990's dataset, for sustained maintenance of Rabies in foxes**:\n",
    "* Marston, D.A. et al. (2017) ‘Genetic analysis of a rabies virus host shift event reveals within-host viral dynamics in a new host’, Virus Evolution, 3(2). Available at: https://doi.org/10.1093/ve/vex038.\n",
    "\n",
    "\n",
    "**Relevant recent (pre-print)**\n",
    "* Ngoepe, C.E., Shumba, W. and Sabeta, C. (2024) ‘Evidence for a host switching in the maintenance of canid rabies variant in two wild carnivore species in the Northern Cape Province, South Africa’, Journal of the South African Veterinary Association [Preprint]. Available at: https://doi.org/10.36303/JSAVA.527.\n",
    "> The rabies viruses recovered from the aardwolves between the year 2015 and 2017 were 100% nucleotide sequence identical, suggesting a single or common source and possible evidence for a host shift.\n"
   ]
  },
  {
   "cell_type": "markdown",
   "id": "87981c1f",
   "metadata": {},
   "source": []
  }
 ],
 "metadata": {
  "kernelspec": {
   "display_name": "monolith",
   "language": "python",
   "name": "python3"
  },
  "language_info": {
   "codemirror_mode": {
    "name": "ipython",
    "version": 3
   },
   "file_extension": ".py",
   "mimetype": "text/x-python",
   "name": "python",
   "nbconvert_exporter": "python",
   "pygments_lexer": "ipython3",
   "version": "3.13.2"
  }
 },
 "nbformat": 4,
 "nbformat_minor": 5
}
